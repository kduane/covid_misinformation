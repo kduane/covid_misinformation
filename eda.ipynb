{
 "cells": [
  {
   "cell_type": "code",
   "execution_count": 11,
   "metadata": {},
   "outputs": [],
   "source": [
    "import re\n",
    "import nltk\n",
    "\n",
    "import requests\n",
    "import itertools\n",
    "import numpy as np\n",
    "import pandas as pd\n",
    "import seaborn as sns\n",
    "import matplotlib.pyplot as plt\n",
    "\n",
    "from nltk.corpus import stopwords\n",
    "from nltk.stem import WordNetLemmatizer\n",
    "from nltk.stem.porter import PorterStemmer\n",
    "from nltk.sentiment.vader import SentimentIntensityAnalyzer\n",
    "from nltk.tokenize import sent_tokenize, word_tokenize, RegexpTokenizer\n",
    "\n",
    "from sklearn import metrics\n",
    "from sklearn.base import BaseEstimator, TransformerMixin\n",
    "from sklearn.tree import DecisionTreeClassifier\n",
    "from sklearn.metrics import confusion_matrix, plot_confusion_matrix, plot_roc_curve, roc_auc_score\n",
    "from sklearn.pipeline import Pipeline, FeatureUnion\n",
    "from sklearn.ensemble import BaggingClassifier, GradientBoostingClassifier, AdaBoostClassifier, VotingClassifier, RandomForestClassifier\n",
    "from sklearn.naive_bayes import MultinomialNB\n",
    "from sklearn.linear_model import PassiveAggressiveClassifier, LogisticRegression, LogisticRegressionCV\n",
    "from sklearn.decomposition import TruncatedSVD\n",
    "from sklearn.model_selection import train_test_split, GridSearchCV, cross_val_score, StratifiedKFold\n",
    "from sklearn.feature_extraction.text import CountVectorizer, TfidfVectorizer, HashingVectorizer\n",
    "\n",
    "from time import sleep"
   ]
  },
  {
   "cell_type": "markdown",
   "metadata": {},
   "source": [
    "### Phase 2:  Exploratory Data Analysis"
   ]
  },
  {
   "cell_type": "markdown",
   "metadata": {},
   "source": [
    "This dataset comes from three main sources:\n",
    "\n",
    "    1. Poynter \n",
    "    2. Reddit\n",
    "    3. World Health Organization"
   ]
  },
  {
   "cell_type": "code",
   "execution_count": 3,
   "metadata": {},
   "outputs": [
    {
     "name": "stdout",
     "output_type": "stream",
     "text": [
      "shape of the data:\n",
      " (10544, 3)\n",
      "empty rows:\n",
      " Unnamed: 0    0\n",
      "label         0\n",
      "text          0\n",
      "dtype: int64\n",
      "data types:\n",
      " Unnamed: 0     int64\n",
      "label         object\n",
      "text          object\n",
      "dtype: object\n"
     ]
    }
   ],
   "source": [
    "#Pegah\n",
    "df = pd.read_csv('./datasets/combined_data.csv')\n",
    "print(f'shape of the data:\\n {df.shape}')\n",
    "print(f'empty rows:\\n {df.isnull().sum()}')\n",
    "print(f'data types:\\n {df.dtypes}')\n",
    "df.head()\n",
    "df = df.drop(columns = 'Unnamed: 0')"
   ]
  },
  {
   "cell_type": "code",
   "execution_count": 5,
   "metadata": {},
   "outputs": [
    {
     "data": {
      "text/html": [
       "<div>\n",
       "<style scoped>\n",
       "    .dataframe tbody tr th:only-of-type {\n",
       "        vertical-align: middle;\n",
       "    }\n",
       "\n",
       "    .dataframe tbody tr th {\n",
       "        vertical-align: top;\n",
       "    }\n",
       "\n",
       "    .dataframe thead th {\n",
       "        text-align: right;\n",
       "    }\n",
       "</style>\n",
       "<table border=\"1\" class=\"dataframe\">\n",
       "  <thead>\n",
       "    <tr style=\"text-align: right;\">\n",
       "      <th></th>\n",
       "      <th>label</th>\n",
       "      <th>text</th>\n",
       "    </tr>\n",
       "  </thead>\n",
       "  <tbody>\n",
       "    <tr>\n",
       "      <th>0</th>\n",
       "      <td>true</td>\n",
       "      <td>Mitch McConnell is ‘prepared to support’ $600 ...</td>\n",
       "    </tr>\n",
       "    <tr>\n",
       "      <th>1</th>\n",
       "      <td>true</td>\n",
       "      <td>German demo against coronavirus rules sparks r...</td>\n",
       "    </tr>\n",
       "    <tr>\n",
       "      <th>2</th>\n",
       "      <td>true</td>\n",
       "      <td>Chicago public schools to hold all classes onl...</td>\n",
       "    </tr>\n",
       "    <tr>\n",
       "      <th>3</th>\n",
       "      <td>true</td>\n",
       "      <td>Global coronavirus deaths exceed 700,000, one ...</td>\n",
       "    </tr>\n",
       "    <tr>\n",
       "      <th>4</th>\n",
       "      <td>true</td>\n",
       "      <td>Modelling the SARS-CoVid-2 outbreak in Italy: ...</td>\n",
       "    </tr>\n",
       "  </tbody>\n",
       "</table>\n",
       "</div>"
      ],
      "text/plain": [
       "  label                                               text\n",
       "0  true  Mitch McConnell is ‘prepared to support’ $600 ...\n",
       "1  true  German demo against coronavirus rules sparks r...\n",
       "2  true  Chicago public schools to hold all classes onl...\n",
       "3  true  Global coronavirus deaths exceed 700,000, one ...\n",
       "4  true  Modelling the SARS-CoVid-2 outbreak in Italy: ..."
      ]
     },
     "execution_count": 5,
     "metadata": {},
     "output_type": "execute_result"
    }
   ],
   "source": [
    "df.head()"
   ]
  },
  {
   "cell_type": "code",
   "execution_count": 6,
   "metadata": {},
   "outputs": [
    {
     "data": {
      "text/html": [
       "<div>\n",
       "<style scoped>\n",
       "    .dataframe tbody tr th:only-of-type {\n",
       "        vertical-align: middle;\n",
       "    }\n",
       "\n",
       "    .dataframe tbody tr th {\n",
       "        vertical-align: top;\n",
       "    }\n",
       "\n",
       "    .dataframe thead th {\n",
       "        text-align: right;\n",
       "    }\n",
       "</style>\n",
       "<table border=\"1\" class=\"dataframe\">\n",
       "  <thead>\n",
       "    <tr style=\"text-align: right;\">\n",
       "      <th></th>\n",
       "      <th>label</th>\n",
       "      <th>text</th>\n",
       "    </tr>\n",
       "  </thead>\n",
       "  <tbody>\n",
       "    <tr>\n",
       "      <th>count</th>\n",
       "      <td>10544</td>\n",
       "      <td>10544</td>\n",
       "    </tr>\n",
       "    <tr>\n",
       "      <th>unique</th>\n",
       "      <td>3</td>\n",
       "      <td>10375</td>\n",
       "    </tr>\n",
       "    <tr>\n",
       "      <th>top</th>\n",
       "      <td>false</td>\n",
       "      <td>Coronavirus: Iran cover-up of deaths revealed ...</td>\n",
       "    </tr>\n",
       "    <tr>\n",
       "      <th>freq</th>\n",
       "      <td>6315</td>\n",
       "      <td>4</td>\n",
       "    </tr>\n",
       "  </tbody>\n",
       "</table>\n",
       "</div>"
      ],
      "text/plain": [
       "        label                                               text\n",
       "count   10544                                              10544\n",
       "unique      3                                              10375\n",
       "top     false  Coronavirus: Iran cover-up of deaths revealed ...\n",
       "freq     6315                                                  4"
      ]
     },
     "execution_count": 6,
     "metadata": {},
     "output_type": "execute_result"
    }
   ],
   "source": [
    "df.describe()"
   ]
  },
  {
   "cell_type": "code",
   "execution_count": 7,
   "metadata": {},
   "outputs": [
    {
     "data": {
      "text/plain": [
       "false         6315\n",
       "true          3070\n",
       "misleading    1159\n",
       "Name: label, dtype: int64"
      ]
     },
     "execution_count": 7,
     "metadata": {},
     "output_type": "execute_result"
    }
   ],
   "source": [
    "df['label'].value_counts()"
   ]
  },
  {
   "cell_type": "markdown",
   "metadata": {},
   "source": [
    "Okay, we're going to lump false and misleading together to simplify the paradigm"
   ]
  },
  {
   "cell_type": "code",
   "execution_count": 8,
   "metadata": {},
   "outputs": [],
   "source": [
    "df['label'] = df['label'].map({'true' : 0,'false' : 1,'misleading' : 1})"
   ]
  },
  {
   "cell_type": "code",
   "execution_count": 9,
   "metadata": {},
   "outputs": [
    {
     "data": {
      "text/plain": [
       "1    7474\n",
       "0    3070\n",
       "Name: label, dtype: int64"
      ]
     },
     "execution_count": 9,
     "metadata": {},
     "output_type": "execute_result"
    }
   ],
   "source": [
    "df['label'].value_counts()"
   ]
  },
  {
   "cell_type": "markdown",
   "metadata": {},
   "source": [
    "### Sentiment Analysis"
   ]
  },
  {
   "cell_type": "markdown",
   "metadata": {},
   "source": [
    "Let's take a look at the sentiments of the "
   ]
  },
  {
   "cell_type": "code",
   "execution_count": 39,
   "metadata": {},
   "outputs": [
    {
     "name": "stderr",
     "output_type": "stream",
     "text": [
      "[nltk_data] Downloading package vader_lexicon to\n",
      "[nltk_data]     /Users/Ember/nltk_data...\n",
      "[nltk_data]   Package vader_lexicon is already up-to-date!\n",
      "[nltk_data] Downloading package stopwords to /Users/Ember/nltk_data...\n",
      "[nltk_data]   Unzipping corpora/stopwords.zip.\n"
     ]
    },
    {
     "data": {
      "text/plain": [
       "True"
      ]
     },
     "execution_count": 39,
     "metadata": {},
     "output_type": "execute_result"
    }
   ],
   "source": [
    "import nltk\n",
    "nltk.download('vader_lexicon')\n",
    "nltk.download('stopwords')"
   ]
  },
  {
   "cell_type": "code",
   "execution_count": 15,
   "metadata": {},
   "outputs": [
    {
     "data": {
      "text/html": [
       "<div>\n",
       "<style scoped>\n",
       "    .dataframe tbody tr th:only-of-type {\n",
       "        vertical-align: middle;\n",
       "    }\n",
       "\n",
       "    .dataframe tbody tr th {\n",
       "        vertical-align: top;\n",
       "    }\n",
       "\n",
       "    .dataframe thead th {\n",
       "        text-align: right;\n",
       "    }\n",
       "</style>\n",
       "<table border=\"1\" class=\"dataframe\">\n",
       "  <thead>\n",
       "    <tr style=\"text-align: right;\">\n",
       "      <th></th>\n",
       "      <th>neg</th>\n",
       "      <th>neu</th>\n",
       "      <th>pos</th>\n",
       "      <th>compound</th>\n",
       "    </tr>\n",
       "  </thead>\n",
       "  <tbody>\n",
       "    <tr>\n",
       "      <th>count</th>\n",
       "      <td>10544.000000</td>\n",
       "      <td>10544.000000</td>\n",
       "      <td>10544.000000</td>\n",
       "      <td>10544.000000</td>\n",
       "    </tr>\n",
       "    <tr>\n",
       "      <th>mean</th>\n",
       "      <td>0.086859</td>\n",
       "      <td>0.853191</td>\n",
       "      <td>0.059949</td>\n",
       "      <td>-0.065131</td>\n",
       "    </tr>\n",
       "    <tr>\n",
       "      <th>std</th>\n",
       "      <td>0.124781</td>\n",
       "      <td>0.146739</td>\n",
       "      <td>0.101147</td>\n",
       "      <td>0.368810</td>\n",
       "    </tr>\n",
       "    <tr>\n",
       "      <th>min</th>\n",
       "      <td>0.000000</td>\n",
       "      <td>0.000000</td>\n",
       "      <td>0.000000</td>\n",
       "      <td>-0.952300</td>\n",
       "    </tr>\n",
       "    <tr>\n",
       "      <th>25%</th>\n",
       "      <td>0.000000</td>\n",
       "      <td>0.753000</td>\n",
       "      <td>0.000000</td>\n",
       "      <td>-0.340000</td>\n",
       "    </tr>\n",
       "    <tr>\n",
       "      <th>50%</th>\n",
       "      <td>0.000000</td>\n",
       "      <td>0.865000</td>\n",
       "      <td>0.000000</td>\n",
       "      <td>0.000000</td>\n",
       "    </tr>\n",
       "    <tr>\n",
       "      <th>75%</th>\n",
       "      <td>0.167000</td>\n",
       "      <td>1.000000</td>\n",
       "      <td>0.108000</td>\n",
       "      <td>0.025800</td>\n",
       "    </tr>\n",
       "    <tr>\n",
       "      <th>max</th>\n",
       "      <td>0.680000</td>\n",
       "      <td>1.000000</td>\n",
       "      <td>1.000000</td>\n",
       "      <td>0.966500</td>\n",
       "    </tr>\n",
       "  </tbody>\n",
       "</table>\n",
       "</div>"
      ],
      "text/plain": [
       "                neg           neu           pos      compound\n",
       "count  10544.000000  10544.000000  10544.000000  10544.000000\n",
       "mean       0.086859      0.853191      0.059949     -0.065131\n",
       "std        0.124781      0.146739      0.101147      0.368810\n",
       "min        0.000000      0.000000      0.000000     -0.952300\n",
       "25%        0.000000      0.753000      0.000000     -0.340000\n",
       "50%        0.000000      0.865000      0.000000      0.000000\n",
       "75%        0.167000      1.000000      0.108000      0.025800\n",
       "max        0.680000      1.000000      1.000000      0.966500"
      ]
     },
     "execution_count": 15,
     "metadata": {},
     "output_type": "execute_result"
    }
   ],
   "source": [
    "#alexis and karl\n",
    "sia = SentimentIntensityAnalyzer()\n",
    "\n",
    "dicts = []\n",
    "\n",
    "for title in df['text']:\n",
    "    scores = sia.polarity_scores(title)\n",
    "    dicts.append(scores)\n",
    "    \n",
    "scores = pd.DataFrame(dicts)\n",
    "scores.describe()"
   ]
  },
  {
   "cell_type": "code",
   "execution_count": 18,
   "metadata": {},
   "outputs": [
    {
     "data": {
      "text/html": [
       "<div>\n",
       "<style scoped>\n",
       "    .dataframe tbody tr th:only-of-type {\n",
       "        vertical-align: middle;\n",
       "    }\n",
       "\n",
       "    .dataframe tbody tr th {\n",
       "        vertical-align: top;\n",
       "    }\n",
       "\n",
       "    .dataframe thead th {\n",
       "        text-align: right;\n",
       "    }\n",
       "</style>\n",
       "<table border=\"1\" class=\"dataframe\">\n",
       "  <thead>\n",
       "    <tr style=\"text-align: right;\">\n",
       "      <th></th>\n",
       "      <th>label</th>\n",
       "      <th>text</th>\n",
       "      <th>neg</th>\n",
       "      <th>neu</th>\n",
       "      <th>pos</th>\n",
       "      <th>compound</th>\n",
       "    </tr>\n",
       "  </thead>\n",
       "  <tbody>\n",
       "    <tr>\n",
       "      <th>1973</th>\n",
       "      <td>0</td>\n",
       "      <td>DR.FAUCI'S BLAYTON CONTRADICTION &amp;amp; STUPIDITY</td>\n",
       "      <td>0.680</td>\n",
       "      <td>0.320</td>\n",
       "      <td>0.0</td>\n",
       "      <td>-0.7481</td>\n",
       "    </tr>\n",
       "    <tr>\n",
       "      <th>2898</th>\n",
       "      <td>0</td>\n",
       "      <td>Fauci is a fraud</td>\n",
       "      <td>0.655</td>\n",
       "      <td>0.345</td>\n",
       "      <td>0.0</td>\n",
       "      <td>-0.5859</td>\n",
       "    </tr>\n",
       "    <tr>\n",
       "      <th>7342</th>\n",
       "      <td>1</td>\n",
       "      <td>COVID-19 is a hoax or scapegoat for economic ...</td>\n",
       "      <td>0.640</td>\n",
       "      <td>0.360</td>\n",
       "      <td>0.0</td>\n",
       "      <td>-0.8360</td>\n",
       "    </tr>\n",
       "    <tr>\n",
       "      <th>983</th>\n",
       "      <td>0</td>\n",
       "      <td>Fear and Loathing in Covid America</td>\n",
       "      <td>0.633</td>\n",
       "      <td>0.367</td>\n",
       "      <td>0.0</td>\n",
       "      <td>-0.7845</td>\n",
       "    </tr>\n",
       "    <tr>\n",
       "      <th>2412</th>\n",
       "      <td>0</td>\n",
       "      <td>US: Texas doctor says, \"I'm fighting two wars:...</td>\n",
       "      <td>0.627</td>\n",
       "      <td>0.373</td>\n",
       "      <td>0.0</td>\n",
       "      <td>-0.9501</td>\n",
       "    </tr>\n",
       "    <tr>\n",
       "      <th>2743</th>\n",
       "      <td>0</td>\n",
       "      <td>Anti-mask protesters arrested in Melbourne</td>\n",
       "      <td>0.625</td>\n",
       "      <td>0.375</td>\n",
       "      <td>0.0</td>\n",
       "      <td>-0.6124</td>\n",
       "    </tr>\n",
       "    <tr>\n",
       "      <th>2266</th>\n",
       "      <td>0</td>\n",
       "      <td>Hundreds infected. Hundreds.</td>\n",
       "      <td>0.615</td>\n",
       "      <td>0.385</td>\n",
       "      <td>0.0</td>\n",
       "      <td>-0.4939</td>\n",
       "    </tr>\n",
       "    <tr>\n",
       "      <th>3223</th>\n",
       "      <td>1</td>\n",
       "      <td>Infrared thermometers kill neurons.</td>\n",
       "      <td>0.610</td>\n",
       "      <td>0.390</td>\n",
       "      <td>0.0</td>\n",
       "      <td>-0.6908</td>\n",
       "    </tr>\n",
       "    <tr>\n",
       "      <th>10041</th>\n",
       "      <td>1</td>\n",
       "      <td>China killed pigs over fear of coronavirus.</td>\n",
       "      <td>0.606</td>\n",
       "      <td>0.394</td>\n",
       "      <td>0.0</td>\n",
       "      <td>-0.8271</td>\n",
       "    </tr>\n",
       "    <tr>\n",
       "      <th>9585</th>\n",
       "      <td>1</td>\n",
       "      <td>Disinfectant gel causes cancer.</td>\n",
       "      <td>0.595</td>\n",
       "      <td>0.405</td>\n",
       "      <td>0.0</td>\n",
       "      <td>-0.6597</td>\n",
       "    </tr>\n",
       "  </tbody>\n",
       "</table>\n",
       "</div>"
      ],
      "text/plain": [
       "       label                                               text    neg    neu  \\\n",
       "1973       0   DR.FAUCI'S BLAYTON CONTRADICTION &amp; STUPIDITY  0.680  0.320   \n",
       "2898       0                                   Fauci is a fraud  0.655  0.345   \n",
       "7342       1   COVID-19 is a hoax or scapegoat for economic ...  0.640  0.360   \n",
       "983        0                 Fear and Loathing in Covid America  0.633  0.367   \n",
       "2412       0  US: Texas doctor says, \"I'm fighting two wars:...  0.627  0.373   \n",
       "2743       0         Anti-mask protesters arrested in Melbourne  0.625  0.375   \n",
       "2266       0                       Hundreds infected. Hundreds.  0.615  0.385   \n",
       "3223       1                Infrared thermometers kill neurons.  0.610  0.390   \n",
       "10041      1        China killed pigs over fear of coronavirus.  0.606  0.394   \n",
       "9585       1                    Disinfectant gel causes cancer.  0.595  0.405   \n",
       "\n",
       "       pos  compound  \n",
       "1973   0.0   -0.7481  \n",
       "2898   0.0   -0.5859  \n",
       "7342   0.0   -0.8360  \n",
       "983    0.0   -0.7845  \n",
       "2412   0.0   -0.9501  \n",
       "2743   0.0   -0.6124  \n",
       "2266   0.0   -0.4939  \n",
       "3223   0.0   -0.6908  \n",
       "10041  0.0   -0.8271  \n",
       "9585   0.0   -0.6597  "
      ]
     },
     "execution_count": 18,
     "metadata": {},
     "output_type": "execute_result"
    }
   ],
   "source": [
    "sia_df = pd.concat([df, scores], axis = 1)\n",
    "sia_df.sort_values(by = 'neg', ascending = False).head(10)"
   ]
  },
  {
   "cell_type": "code",
   "execution_count": 19,
   "metadata": {},
   "outputs": [
    {
     "data": {
      "text/plain": [
       "'Fresno County teenager is the first California child to die because of COVID-19'"
      ]
     },
     "execution_count": 19,
     "metadata": {},
     "output_type": "execute_result"
    }
   ],
   "source": [
    "sia_df.iloc[2294]['text']"
   ]
  },
  {
   "cell_type": "code",
   "execution_count": 20,
   "metadata": {},
   "outputs": [
    {
     "data": {
      "text/html": [
       "<div>\n",
       "<style scoped>\n",
       "    .dataframe tbody tr th:only-of-type {\n",
       "        vertical-align: middle;\n",
       "    }\n",
       "\n",
       "    .dataframe tbody tr th {\n",
       "        vertical-align: top;\n",
       "    }\n",
       "\n",
       "    .dataframe thead th {\n",
       "        text-align: right;\n",
       "    }\n",
       "</style>\n",
       "<table border=\"1\" class=\"dataframe\">\n",
       "  <thead>\n",
       "    <tr style=\"text-align: right;\">\n",
       "      <th></th>\n",
       "      <th>label</th>\n",
       "      <th>text</th>\n",
       "      <th>neg</th>\n",
       "      <th>neu</th>\n",
       "      <th>pos</th>\n",
       "      <th>compound</th>\n",
       "    </tr>\n",
       "  </thead>\n",
       "  <tbody>\n",
       "    <tr>\n",
       "      <th>757</th>\n",
       "      <td>0</td>\n",
       "      <td>Free free free</td>\n",
       "      <td>0.0</td>\n",
       "      <td>0.000</td>\n",
       "      <td>1.000</td>\n",
       "      <td>0.8720</td>\n",
       "    </tr>\n",
       "    <tr>\n",
       "      <th>9521</th>\n",
       "      <td>1</td>\n",
       "      <td>Vitamin C prevents coronavirus.</td>\n",
       "      <td>0.0</td>\n",
       "      <td>0.222</td>\n",
       "      <td>0.778</td>\n",
       "      <td>0.3612</td>\n",
       "    </tr>\n",
       "    <tr>\n",
       "      <th>9661</th>\n",
       "      <td>1</td>\n",
       "      <td>Vitamin helps against COVID-19.</td>\n",
       "      <td>0.0</td>\n",
       "      <td>0.294</td>\n",
       "      <td>0.706</td>\n",
       "      <td>0.5859</td>\n",
       "    </tr>\n",
       "    <tr>\n",
       "      <th>9102</th>\n",
       "      <td>1</td>\n",
       "      <td>Sex helps prevent coronavirus.</td>\n",
       "      <td>0.0</td>\n",
       "      <td>0.351</td>\n",
       "      <td>0.649</td>\n",
       "      <td>0.4019</td>\n",
       "    </tr>\n",
       "    <tr>\n",
       "      <th>4520</th>\n",
       "      <td>1</td>\n",
       "      <td>Lacoteferrin prevents and helps prevent coron...</td>\n",
       "      <td>0.0</td>\n",
       "      <td>0.375</td>\n",
       "      <td>0.625</td>\n",
       "      <td>0.4588</td>\n",
       "    </tr>\n",
       "    <tr>\n",
       "      <th>9480</th>\n",
       "      <td>1</td>\n",
       "      <td>Vitamin C is a miracle cure for the novel cor...</td>\n",
       "      <td>0.0</td>\n",
       "      <td>0.376</td>\n",
       "      <td>0.624</td>\n",
       "      <td>0.8074</td>\n",
       "    </tr>\n",
       "    <tr>\n",
       "      <th>5869</th>\n",
       "      <td>1</td>\n",
       "      <td>Alkaline foods help prevent or treat COVID-19.</td>\n",
       "      <td>0.0</td>\n",
       "      <td>0.381</td>\n",
       "      <td>0.619</td>\n",
       "      <td>0.6705</td>\n",
       "    </tr>\n",
       "    <tr>\n",
       "      <th>1403</th>\n",
       "      <td>0</td>\n",
       "      <td>SARS-COVID-2 and the value of TRUST</td>\n",
       "      <td>0.0</td>\n",
       "      <td>0.383</td>\n",
       "      <td>0.617</td>\n",
       "      <td>0.7531</td>\n",
       "    </tr>\n",
       "    <tr>\n",
       "      <th>4392</th>\n",
       "      <td>1</td>\n",
       "      <td>Vitamin D helps against the coronavirus.</td>\n",
       "      <td>0.0</td>\n",
       "      <td>0.385</td>\n",
       "      <td>0.615</td>\n",
       "      <td>0.5859</td>\n",
       "    </tr>\n",
       "    <tr>\n",
       "      <th>1623</th>\n",
       "      <td>0</td>\n",
       "      <td>Recalled Hand Sanitizer—Updated</td>\n",
       "      <td>0.0</td>\n",
       "      <td>0.385</td>\n",
       "      <td>0.615</td>\n",
       "      <td>0.4939</td>\n",
       "    </tr>\n",
       "  </tbody>\n",
       "</table>\n",
       "</div>"
      ],
      "text/plain": [
       "      label                                               text  neg    neu  \\\n",
       "757       0                                     Free free free  0.0  0.000   \n",
       "9521      1                    Vitamin C prevents coronavirus.  0.0  0.222   \n",
       "9661      1                    Vitamin helps against COVID-19.  0.0  0.294   \n",
       "9102      1                     Sex helps prevent coronavirus.  0.0  0.351   \n",
       "4520      1   Lacoteferrin prevents and helps prevent coron...  0.0  0.375   \n",
       "9480      1   Vitamin C is a miracle cure for the novel cor...  0.0  0.376   \n",
       "5869      1     Alkaline foods help prevent or treat COVID-19.  0.0  0.381   \n",
       "1403      0                SARS-COVID-2 and the value of TRUST  0.0  0.383   \n",
       "4392      1           Vitamin D helps against the coronavirus.  0.0  0.385   \n",
       "1623      0                    Recalled Hand Sanitizer—Updated  0.0  0.385   \n",
       "\n",
       "        pos  compound  \n",
       "757   1.000    0.8720  \n",
       "9521  0.778    0.3612  \n",
       "9661  0.706    0.5859  \n",
       "9102  0.649    0.4019  \n",
       "4520  0.625    0.4588  \n",
       "9480  0.624    0.8074  \n",
       "5869  0.619    0.6705  \n",
       "1403  0.617    0.7531  \n",
       "4392  0.615    0.5859  \n",
       "1623  0.615    0.4939  "
      ]
     },
     "execution_count": 20,
     "metadata": {},
     "output_type": "execute_result"
    }
   ],
   "source": [
    "sia_df.sort_values(by = 'pos', ascending = False).head(10)"
   ]
  },
  {
   "cell_type": "code",
   "execution_count": 21,
   "metadata": {},
   "outputs": [
    {
     "data": {
      "text/html": [
       "<div>\n",
       "<style scoped>\n",
       "    .dataframe tbody tr th:only-of-type {\n",
       "        vertical-align: middle;\n",
       "    }\n",
       "\n",
       "    .dataframe tbody tr th {\n",
       "        vertical-align: top;\n",
       "    }\n",
       "\n",
       "    .dataframe thead th {\n",
       "        text-align: right;\n",
       "    }\n",
       "</style>\n",
       "<table border=\"1\" class=\"dataframe\">\n",
       "  <thead>\n",
       "    <tr style=\"text-align: right;\">\n",
       "      <th></th>\n",
       "      <th>label</th>\n",
       "      <th>text</th>\n",
       "      <th>neg</th>\n",
       "      <th>neu</th>\n",
       "      <th>pos</th>\n",
       "      <th>compound</th>\n",
       "    </tr>\n",
       "  </thead>\n",
       "  <tbody>\n",
       "    <tr>\n",
       "      <th>1317</th>\n",
       "      <td>0</td>\n",
       "      <td>The pandemic that took my job away (still out ...</td>\n",
       "      <td>0.028</td>\n",
       "      <td>0.629</td>\n",
       "      <td>0.343</td>\n",
       "      <td>0.9665</td>\n",
       "    </tr>\n",
       "    <tr>\n",
       "      <th>689</th>\n",
       "      <td>0</td>\n",
       "      <td>Free Worldwide Online Treasure Hunt Underway! ...</td>\n",
       "      <td>0.000</td>\n",
       "      <td>0.520</td>\n",
       "      <td>0.480</td>\n",
       "      <td>0.9601</td>\n",
       "    </tr>\n",
       "    <tr>\n",
       "      <th>5159</th>\n",
       "      <td>1</td>\n",
       "      <td>Multiple posts on Facebook, Twitter and on va...</td>\n",
       "      <td>0.000</td>\n",
       "      <td>0.802</td>\n",
       "      <td>0.198</td>\n",
       "      <td>0.9360</td>\n",
       "    </tr>\n",
       "    <tr>\n",
       "      <th>4785</th>\n",
       "      <td>1</td>\n",
       "      <td>“A shift in world politics, published a dossi...</td>\n",
       "      <td>0.000</td>\n",
       "      <td>0.739</td>\n",
       "      <td>0.261</td>\n",
       "      <td>0.9245</td>\n",
       "    </tr>\n",
       "    <tr>\n",
       "      <th>8085</th>\n",
       "      <td>1</td>\n",
       "      <td>A WhatsApp forward claimed that a vaccine for...</td>\n",
       "      <td>0.019</td>\n",
       "      <td>0.848</td>\n",
       "      <td>0.133</td>\n",
       "      <td>0.9178</td>\n",
       "    </tr>\n",
       "    <tr>\n",
       "      <th>7990</th>\n",
       "      <td>1</td>\n",
       "      <td>A WhatsApp forward has gone viral which claim...</td>\n",
       "      <td>0.018</td>\n",
       "      <td>0.856</td>\n",
       "      <td>0.126</td>\n",
       "      <td>0.9178</td>\n",
       "    </tr>\n",
       "    <tr>\n",
       "      <th>6539</th>\n",
       "      <td>1</td>\n",
       "      <td>Post in Lithuanian saying: “I don’t protect. ...</td>\n",
       "      <td>0.000</td>\n",
       "      <td>0.811</td>\n",
       "      <td>0.189</td>\n",
       "      <td>0.9151</td>\n",
       "    </tr>\n",
       "    <tr>\n",
       "      <th>10201</th>\n",
       "      <td>1</td>\n",
       "      <td>Chlorine dioxide kits sold online under vario...</td>\n",
       "      <td>0.000</td>\n",
       "      <td>0.596</td>\n",
       "      <td>0.404</td>\n",
       "      <td>0.9042</td>\n",
       "    </tr>\n",
       "    <tr>\n",
       "      <th>2253</th>\n",
       "      <td>0</td>\n",
       "      <td>Very good article. Certainly something to thin...</td>\n",
       "      <td>0.000</td>\n",
       "      <td>0.757</td>\n",
       "      <td>0.243</td>\n",
       "      <td>0.9031</td>\n",
       "    </tr>\n",
       "    <tr>\n",
       "      <th>7137</th>\n",
       "      <td>1</td>\n",
       "      <td>Thousands of Facebook users in the United Sta...</td>\n",
       "      <td>0.000</td>\n",
       "      <td>0.665</td>\n",
       "      <td>0.335</td>\n",
       "      <td>0.9022</td>\n",
       "    </tr>\n",
       "  </tbody>\n",
       "</table>\n",
       "</div>"
      ],
      "text/plain": [
       "       label                                               text    neg    neu  \\\n",
       "1317       0  The pandemic that took my job away (still out ...  0.028  0.629   \n",
       "689        0  Free Worldwide Online Treasure Hunt Underway! ...  0.000  0.520   \n",
       "5159       1   Multiple posts on Facebook, Twitter and on va...  0.000  0.802   \n",
       "4785       1   “A shift in world politics, published a dossi...  0.000  0.739   \n",
       "8085       1   A WhatsApp forward claimed that a vaccine for...  0.019  0.848   \n",
       "7990       1   A WhatsApp forward has gone viral which claim...  0.018  0.856   \n",
       "6539       1   Post in Lithuanian saying: “I don’t protect. ...  0.000  0.811   \n",
       "10201      1   Chlorine dioxide kits sold online under vario...  0.000  0.596   \n",
       "2253       0  Very good article. Certainly something to thin...  0.000  0.757   \n",
       "7137       1   Thousands of Facebook users in the United Sta...  0.000  0.665   \n",
       "\n",
       "         pos  compound  \n",
       "1317   0.343    0.9665  \n",
       "689    0.480    0.9601  \n",
       "5159   0.198    0.9360  \n",
       "4785   0.261    0.9245  \n",
       "8085   0.133    0.9178  \n",
       "7990   0.126    0.9178  \n",
       "6539   0.189    0.9151  \n",
       "10201  0.404    0.9042  \n",
       "2253   0.243    0.9031  \n",
       "7137   0.335    0.9022  "
      ]
     },
     "execution_count": 21,
     "metadata": {},
     "output_type": "execute_result"
    }
   ],
   "source": [
    "sia_df.sort_values(by = 'compound', ascending = False).head(10)"
   ]
  },
  {
   "cell_type": "code",
   "execution_count": 22,
   "metadata": {},
   "outputs": [
    {
     "data": {
      "image/png": "[encoded data removed]",
      "text/plain": [
       "<Figure size 432x288 with 1 Axes>"
      ]
     },
     "metadata": {
      "needs_background": "light"
     },
     "output_type": "display_data"
    }
   ],
   "source": [
    "sia_df.groupby('label').mean()[['pos', 'neg']].plot(kind = 'barh')\n",
    "plt.title('Average Positive and Negative Scores by label')\n",
    "plt.savefig('./imgs/binaryPosNegSia.png');"
   ]
  },
  {
   "cell_type": "code",
   "execution_count": 23,
   "metadata": {},
   "outputs": [
    {
     "data": {
      "image/png": "[encoded data removed]",
      "text/plain": [
       "<Figure size 360x360 with 1 Axes>"
      ]
     },
     "metadata": {
      "needs_background": "light"
     },
     "output_type": "display_data"
    }
   ],
   "source": [
    "sns.catplot(x = 'label', y = 'compound', data = sia_df)\n",
    "plt.title('Catplot of Compound Scores');"
   ]
  },
  {
   "cell_type": "code",
   "execution_count": 24,
   "metadata": {},
   "outputs": [
    {
     "data": {
      "image/png": "[encoded data removed]",
      "text/plain": [
       "<Figure size 440x216 with 2 Axes>"
      ]
     },
     "metadata": {
      "needs_background": "light"
     },
     "output_type": "display_data"
    }
   ],
   "source": [
    "g = sns.FacetGrid(sia_df, col = 'label')\n",
    "g.map(plt.hist, 'compound')\n",
    "g.add_legend()\n",
    "plt.savefig('./imgs/binaryCompoundSia.png');"
   ]
  },
  {
   "cell_type": "code",
   "execution_count": 27,
   "metadata": {},
   "outputs": [
    {
     "name": "stdout",
     "output_type": "stream",
     "text": [
      "(10544, 13416)\n",
      "coronavirus    3920\n",
      "covid          3357\n",
      "19             3184\n",
      "people          857\n",
      "video           835\n",
      "new             712\n",
      "shows           616\n",
      "pandemic        586\n",
      "cases           503\n",
      "lockdown        494\n",
      "india           446\n",
      "china           446\n",
      "vaccine         439\n",
      "virus           413\n",
      "says            412\n",
      "government      412\n",
      "facebook        395\n",
      "health          373\n",
      "president       367\n",
      "novel           352\n",
      "dtype: int64\n",
      "kashgar        1\n",
      "lungi          1\n",
      "lunatics       1\n",
      "lula           1\n",
      "lukashenko     1\n",
      "luisa          1\n",
      "luigi          1\n",
      "lugo           1\n",
      "luetkemeyer    1\n",
      "ludo           1\n",
      "lucía          1\n",
      "luciano        1\n",
      "lucha          1\n",
      "lt             1\n",
      "lsu            1\n",
      "dtype: int64\n"
     ]
    }
   ],
   "source": [
    "#Pegah\n",
    "cv = CountVectorizer(stop_words='english')\n",
    "cv.fit(df['text'])\n",
    "\n",
    "text_cv = cv.transform(df['text'])\n",
    "text_df = pd.DataFrame(text_cv.todense(), columns=cv.get_feature_names())\n",
    "print(text_df.shape)\n",
    "print(text_df.sum().sort_values(ascending=False).head(20))\n",
    "print(text_df.sum().sort_values().head(15))"
   ]
  },
  {
   "cell_type": "code",
   "execution_count": 28,
   "metadata": {},
   "outputs": [
    {
     "data": {
      "image/png": "[encoded data removed]",
      "text/plain": [
       "<Figure size 288x432 with 1 Axes>"
      ]
     },
     "metadata": {
      "needs_background": "light"
     },
     "output_type": "display_data"
    }
   ],
   "source": [
    "plt.figure(figsize=(4,6))\n",
    "text_df.sum().sort_values(ascending=False).head(30).plot(kind='barh');"
   ]
  },
  {
   "cell_type": "code",
   "execution_count": 29,
   "metadata": {},
   "outputs": [],
   "source": [
    "#Alexis\n",
    "positive_words = ['brave','great', 'improve',\n",
    "                  'amazing','decrease','strong','safe', 'clean',\n",
    "                  'happy','love', 'enjoy','accomplish','achieve',\n",
    "                  'good', 'negative', 'cure', 'support','effective','save', 'open']\n",
    "negative_words = ['infected','violence','terrible','worse','death','fake', 'illegal',\n",
    "                  'destroy', 'aggresive','enemy','crash',\n",
    "                  'bad','false','rude','disappointed','positive','crisis','increase']"
   ]
  },
  {
   "cell_type": "code",
   "execution_count": 30,
   "metadata": {},
   "outputs": [],
   "source": [
    "def pos_sentiment(text):\n",
    "    tokenizer = RegexpTokenizer(r'\\w+')\n",
    "    tokens = tokenizer.tokenize(text.lower())\n",
    "    p_stemmer = PorterStemmer()\n",
    "    stemmed_words = [p_stemmer.stem(word) for word in tokens]\n",
    "    positive_stems = [p_stemmer.stem(word) for word in positive_words]\n",
    "    return sum([1 for i in stemmed_words if i in positive_stems])/ len(stemmed_words)"
   ]
  },
  {
   "cell_type": "code",
   "execution_count": 31,
   "metadata": {},
   "outputs": [],
   "source": [
    "def neg_sentiment(text):\n",
    "    tokenizer = RegexpTokenizer(r'\\w+')\n",
    "    tokens = tokenizer.tokenize(text.lower())\n",
    "    p_stemmer = PorterStemmer()\n",
    "    stemmed_words = [p_stemmer.stem(word) for word in tokens]\n",
    "    negative_stems = [p_stemmer.stem(word) for word in negative_words]\n",
    "    return sum([1 for i in stemmed_words if i in negative_stems])/ len(stemmed_words)"
   ]
  },
  {
   "cell_type": "code",
   "execution_count": 32,
   "metadata": {},
   "outputs": [],
   "source": [
    "pos = []\n",
    "neg = []\n",
    "for post in df['text']:\n",
    "    pos_scores = pos_sentiment(post)\n",
    "    neg_scores = neg_sentiment(post)\n",
    "    pos.append(pos_scores)\n",
    "    neg.append(neg_scores)"
   ]
  },
  {
   "cell_type": "code",
   "execution_count": 33,
   "metadata": {},
   "outputs": [],
   "source": [
    "sentiment = pd.DataFrame({'pos': pos, 'neg': neg})"
   ]
  },
  {
   "cell_type": "code",
   "execution_count": 34,
   "metadata": {},
   "outputs": [],
   "source": [
    "sentiment_df = pd.concat([df, sentiment], axis=1)"
   ]
  },
  {
   "cell_type": "code",
   "execution_count": 35,
   "metadata": {},
   "outputs": [
    {
     "data": {
      "text/plain": [
       "<matplotlib.axes._subplots.AxesSubplot at 0x7fcd5953d110>"
      ]
     },
     "execution_count": 35,
     "metadata": {},
     "output_type": "execute_result"
    },
    {
     "data": {
      "image/png": "[encoded data removed]",
      "text/plain": [
       "<Figure size 432x288 with 1 Axes>"
      ]
     },
     "metadata": {
      "needs_background": "light"
     },
     "output_type": "display_data"
    }
   ],
   "source": [
    "sentiment_df.groupby('label').mean()[['pos', 'neg']].plot(kind = 'barh')"
   ]
  },
  {
   "cell_type": "code",
   "execution_count": 36,
   "metadata": {},
   "outputs": [],
   "source": [
    "#Eric\n",
    "tokenizer = RegexpTokenizer(r'\\w+')"
   ]
  },
  {
   "cell_type": "code",
   "execution_count": 40,
   "metadata": {},
   "outputs": [],
   "source": [
    "hold_list = []\n",
    "for words in df['text']:\n",
    "    sing_word = tokenizer.tokenize(words.lower())\n",
    "    hold_list.append(sing_word)\n",
    "\n",
    "single_list = [i for token in hold_list for i in token]\n",
    "\n",
    "stopless_list = [token for token in single_list if token not in stopwords.words('english')]"
   ]
  },
  {
   "cell_type": "code",
   "execution_count": 42,
   "metadata": {},
   "outputs": [
    {
     "data": {
      "image/png": "[encoded data removed]",
      "text/plain": [
       "<Figure size 432x288 with 1 Axes>"
      ]
     },
     "metadata": {
      "needs_background": "light"
     },
     "output_type": "display_data"
    }
   ],
   "source": [
    "word_comp = pd.DataFrame(stopless_list)\n",
    "word_comp.rename(columns = {0 : 'words'}, inplace=True)\n",
    "word_comp['words'].value_counts().head(25).plot(kind='barh');\n",
    "plt.title('Frequency of words in headlines')\n",
    "plt.xlabel('Words')\n",
    "plt.ylabel('Frequency');"
   ]
  },
  {
   "cell_type": "code",
   "execution_count": 43,
   "metadata": {},
   "outputs": [
    {
     "data": {
      "image/png": "[encoded data removed]",
      "text/plain": [
       "<Figure size 432x288 with 1 Axes>"
      ]
     },
     "metadata": {
      "needs_background": "light"
     },
     "output_type": "display_data"
    }
   ],
   "source": [
    "true_df = df[df['label'] == 0]\n",
    "\n",
    "hold_list = []\n",
    "for words in true_df['text']:\n",
    "    sing_word = tokenizer.tokenize(words.lower())\n",
    "    hold_list.append(sing_word)\n",
    "\n",
    "single_list = [i for token in hold_list for i in token]\n",
    "\n",
    "stopless_list = [token for token in single_list if token not in stopwords.words('english')]\n",
    "\n",
    "word_comp = pd.DataFrame(stopless_list)\n",
    "word_comp.rename(columns = {0 : 'words'}, inplace=True)\n",
    "word_comp['words'].value_counts().head(25).plot(kind='barh');\n",
    "plt.title('Frequency of words in headlines')\n",
    "plt.xlabel('Words')\n",
    "plt.ylabel('Frequency');"
   ]
  },
  {
   "cell_type": "code",
   "execution_count": 44,
   "metadata": {},
   "outputs": [
    {
     "data": {
      "text/plain": [
       "Text(0, 0.5, 'Frequency')"
      ]
     },
     "execution_count": 44,
     "metadata": {},
     "output_type": "execute_result"
    },
    {
     "data": {
      "image/png": "[encoded data removed]",
      "text/plain": [
       "<Figure size 432x288 with 1 Axes>"
      ]
     },
     "metadata": {
      "needs_background": "light"
     },
     "output_type": "display_data"
    }
   ],
   "source": [
    "false_df = df[df['label'] != 0]\n",
    "\n",
    "hold_list = []\n",
    "for words in false_df['text']:\n",
    "    sing_word = tokenizer.tokenize(words.lower())\n",
    "    hold_list.append(sing_word)\n",
    "\n",
    "single_list = [i for token in hold_list for i in token]\n",
    "\n",
    "stopless_list = [token for token in single_list if token not in stopwords.words('english')]\n",
    "\n",
    "word_comp = pd.DataFrame(stopless_list)\n",
    "word_comp.rename(columns = {0 : 'words'}, inplace=True)\n",
    "word_comp['words'].value_counts().head(25).plot(kind='barh');\n",
    "plt.title('Frequency of words in headlines')\n",
    "plt.xlabel('Words')\n",
    "plt.ylabel('Frequency');"
   ]
  },
  {
   "cell_type": "code",
   "execution_count": null,
   "metadata": {},
   "outputs": [],
   "source": []
  }
 ],
 "metadata": {
  "kernelspec": {
   "display_name": "Python 3.7.7 64-bit (conda)",
   "language": "python",
   "name": "python37764bitconda77dc9d652bc147c6a9d0ea8af6b5ba0e"
  },
  "language_info": {
   "codemirror_mode": {
    "name": "ipython",
    "version": 3
   },
   "file_extension": ".py",
   "mimetype": "text/x-python",
   "name": "python",
   "nbconvert_exporter": "python",
   "pygments_lexer": "ipython3",
   "version": "3.7.7"
  }
 },
 "nbformat": 4,
 "nbformat_minor": 4
}
